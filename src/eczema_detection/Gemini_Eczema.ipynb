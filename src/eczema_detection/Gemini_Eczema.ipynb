{
  "cells": [
    {
      "cell_type": "code",
      "execution_count": 7,
      "metadata": {
        "id": "Z4egHzhIh0Z0"
      },
      "outputs": [
        {
          "name": "stdout",
          "output_type": "stream",
          "text": [
            "Note: you may need to restart the kernel to use updated packages.\n"
          ]
        },
        {
          "name": "stderr",
          "output_type": "stream",
          "text": [
            "\n",
            "[notice] A new release of pip is available: 23.0.1 -> 24.3.1\n",
            "[notice] To update, run: C:\\Users\\anush\\AppData\\Local\\Microsoft\\WindowsApps\\PythonSoftwareFoundation.Python.3.10_qbz5n2kfra8p0\\python.exe -m pip install --upgrade pip\n"
          ]
        },
        {
          "name": "stdout",
          "output_type": "stream",
          "text": [
            "Collecting python-dotenv\n",
            "  Downloading python_dotenv-1.0.1-py3-none-any.whl (19 kB)\n",
            "Installing collected packages: python-dotenv\n",
            "Successfully installed python-dotenv-1.0.1\n",
            "Note: you may need to restart the kernel to use updated packages.\n"
          ]
        },
        {
          "name": "stderr",
          "output_type": "stream",
          "text": [
            "\n",
            "[notice] A new release of pip is available: 23.0.1 -> 24.3.1\n",
            "[notice] To update, run: C:\\Users\\anush\\AppData\\Local\\Microsoft\\WindowsApps\\PythonSoftwareFoundation.Python.3.10_qbz5n2kfra8p0\\python.exe -m pip install --upgrade pip\n"
          ]
        }
      ],
      "source": [
        "%pip install -q -U google-generativeai\n",
        "%pip install python-dotenv"
      ]
    },
    {
      "cell_type": "code",
      "execution_count": 8,
      "metadata": {
        "id": "TpGEg44qjoma"
      },
      "outputs": [],
      "source": [
        "import google.generativeai as genai\n",
        "from IPython.display import Markdown"
      ]
    },
    {
      "cell_type": "code",
      "execution_count": null,
      "metadata": {
        "id": "eSP6wvATkS5a"
      },
      "outputs": [
        {
          "name": "stdout",
          "output_type": "stream",
          "text": [
            "API key configured successfully!\n"
          ]
        }
      ],
      "source": [
        "import os\n",
        "from dotenv import load_dotenv\n",
        "\n",
        "# Add API key in .env file\n",
        "# Example: GOOGLE_API_KEY=your-api-key \n",
        "\n",
        "load_dotenv()\n",
        "\n",
        "GOOGLE_API_KEY = os.getenv('GOOGLE_API_KEY')  # Retrieve the API key from env file.\n",
        "\n",
        "if GOOGLE_API_KEY is None:\n",
        "    raise ValueError(\"API key not found. Please set it as an environment variable: GOOGLE_API_KEY\")\n",
        "\n",
        "genai.configure(api_key=GOOGLE_API_KEY)\n",
        "\n",
        "print(\"API key configured successfully!\")\n"
      ]
    },
    {
      "cell_type": "code",
      "execution_count": 22,
      "metadata": {
        "id": "CoYa8JmhnCS2"
      },
      "outputs": [],
      "source": [
        "# Pick image from dataset\n",
        "sample_file = genai.upload_file(path=r\"..\\..\\dataset\\eczema\\Eczema of Hands\\eczema-hand-189.jpg\",\n",
        "                            display_name=\"Sample image\")"
      ]
    },
    {
      "cell_type": "code",
      "execution_count": 23,
      "metadata": {
        "colab": {
          "base_uri": "https://localhost:8080/",
          "height": 34
        },
        "id": "BM4Y5FS9nRWQ",
        "outputId": "77e77bdd-3bf0-419d-e91f-a406561aa96b"
      },
      "outputs": [
        {
          "name": "stdout",
          "output_type": "stream",
          "text": [
            "Retrieved file 'Sample image' as: https://generativelanguage.googleapis.com/v1beta/files/aoxp04fm9fia\n"
          ]
        }
      ],
      "source": [
        "file = genai.get_file(name=sample_file.name)\n",
        "print(f\"Retrieved file '{file.display_name}' as: {sample_file.uri}\")"
      ]
    },
    {
      "cell_type": "code",
      "execution_count": 24,
      "metadata": {
        "colab": {
          "base_uri": "https://localhost:8080/",
          "height": 46
        },
        "id": "fAzUSMxZk1ke",
        "outputId": "1aceaa6d-8b4e-488f-a447-054da7e752e2"
      },
      "outputs": [
        {
          "data": {
            "text/markdown": [
              "Yes, the image shows skin, specifically the palm of a hand."
            ],
            "text/plain": [
              "<IPython.core.display.Markdown object>"
            ]
          },
          "execution_count": 24,
          "metadata": {},
          "output_type": "execute_result"
        }
      ],
      "source": [
        "# Choose a Gemini model.\n",
        "model = genai.GenerativeModel(model_name=\"gemini-1.5-pro-latest\")\n",
        "\n",
        "# Create a prompt to detect bounding boxes.\n",
        "prompt = \"Return whether the provided image is skin or not and which part of the body it is \"\n",
        "response = model.generate_content([sample_file, prompt])\n",
        "\n",
        "Markdown(response.text)"
      ]
    },
    {
      "cell_type": "code",
      "execution_count": 25,
      "metadata": {
        "colab": {
          "base_uri": "https://localhost:8080/",
          "height": 533
        },
        "id": "B6XprPHUoBdP",
        "outputId": "ed83763f-7c8a-4bf8-d5e5-40c35b3a75ad"
      },
      "outputs": [
        {
          "data": {
            "text/markdown": [
              "This image likely depicts a case of **hand eczema**, though a definitive diagnosis would require examination by a dermatologist. It appears to be a **moderate to severe** case, based on the visible signs:\n",
              "\n",
              "* **Significant dryness and scaling:**  The skin looks very dry and has areas of flaking or scaling.\n",
              "* **Fissures (cracks):**  Deep lines or cracks are visible, particularly along the palm lines. These can be quite painful and prone to infection.\n",
              "* **Erythema (redness):** The skin shows significant redness, indicating inflammation.\n",
              "* **Hyperpigmentation (darkening of the skin):** Brownish patches suggest chronic inflammation and scratching.\n",
              "* **Possible blister or erosion:** The circular lesion on the heel of the hand could be a blister or an erosion, suggesting a more active phase of inflammation.\n",
              "\n",
              "\n",
              "**Remedies and Treatments:**\n",
              "\n",
              "Given the likely severity, it's important to see a dermatologist for a proper diagnosis and treatment plan. However, general remedies for hand eczema include:\n",
              "\n",
              "* **Moisturizers:** Frequent application of thick, emollient moisturizers is crucial. Ointments are generally more effective than creams or lotions. Apply after washing hands and as needed.\n",
              "* **Topical Steroids:** Prescription-strength topical corticosteroids can help reduce inflammation and itching. The dermatologist will prescribe the appropriate strength and duration of use.\n",
              "* **Avoid Irritants:** Identify and avoid triggers that may worsen eczema, such as harsh soaps, detergents, solvents, and certain foods. Wear gloves when doing chores or handling irritants.\n",
              "* **Wet Wraps:** For severe cases, wet wraps can help soothe the skin and improve the absorption of topical medications. Soak a clean cloth in cool water, apply it to the affected area, cover with a dry layer, and leave for 30-60 minutes.\n",
              "* **Oral Medications:** In some cases, oral antihistamines or immunosuppressants may be necessary to control itching and inflammation.\n",
              "* **Phototherapy:** Ultraviolet light therapy can sometimes be helpful for severe eczema.\n",
              "\n",
              "**Important Notes:**\n",
              "\n",
              "* Do not self-treat without consulting a dermatologist.  Improper use of steroids or other medications can worsen the condition.\n",
              "* Avoid scratching as much as possible, as it can damage the skin and lead to infection. Keep fingernails short and clean.\n",
              "* If there are signs of infection (pus, increased redness, swelling, warmth), seek medical attention immediately.\n",
              "\n",
              "\n",
              "This information is for general knowledge and does not constitute medical advice.  Always consult with a healthcare professional for any health concerns.\n"
            ],
            "text/plain": [
              "<IPython.core.display.Markdown object>"
            ]
          },
          "execution_count": 25,
          "metadata": {},
          "output_type": "execute_result"
        }
      ],
      "source": [
        "# Prompt to check if eczema\n",
        "prompt = \"Return whether the provided image is a case of eczema and explain how severe the case is and what remedies can be availed\"\n",
        "response = model.generate_content([sample_file, prompt])\n",
        "\n",
        "Markdown(response.text)"
      ]
    },
    {
      "cell_type": "code",
      "execution_count": 27,
      "metadata": {
        "id": "hBWfcg_SqA9H"
      },
      "outputs": [
        {
          "data": {
            "text/markdown": [
              "The image shows features suggestive of hand eczema, particularly chronic hand eczema.  It's characterized by thickened skin, altered pigmentation (darkening or lightening), dryness, cracks (fissures), and possibly some small blisters or areas of erosion.\n",
              "\n",
              "Severity Assessment:\n",
              "\n",
              "Based on the image, this appears to be a moderately severe case of hand eczema.  It's beyond mild dryness or irritation but doesn't show signs of widespread weeping or infection, which would suggest a more severe flare-up. The presence of thickened skin and cracks indicates chronicity, meaning it's been present for some time.\n",
              "\n",
              "It's crucial to remember: **I am an AI and cannot give medical advice.**  A dermatologist should evaluate this in person to make a definitive diagnosis and recommend treatment.  \n",
              "\n",
              "Potential Remedies (Only a Dermatologist Can Prescribe or Recommend Specific Treatments):\n",
              "\n",
              "* **Topical Corticosteroids:**  These are often the first line of treatment to reduce inflammation and itching. The strength prescribed depends on the severity.  \n",
              "* **Emollients:**  Regular and frequent application of emollients (moisturizers) is essential to hydrate and protect the skin barrier.  Thick ointments are often preferred for hand eczema.\n",
              "* **Topical Calcineurin Inhibitors (TCIs):**  These medications (like tacrolimus and pimecrolimus) can be used as steroid-sparing agents, particularly for long-term maintenance.\n",
              "* **Wet Wraps:**  This technique involves applying a thin layer of topical medication, then covering the area with damp bandages or clothing. It helps to hydrate the skin, enhance medication absorption, and reduce itching.\n",
              "* **Oral Medications:**  In severe cases that don't respond to topical treatments, a dermatologist might prescribe oral medications such as corticosteroids, antihistamines, or other immunosuppressants.\n",
              "* **Phototherapy:**  In some cases, ultraviolet light therapy can be beneficial.\n",
              "* **Identifying and Avoiding Triggers:**  Hand eczema is often triggered by irritants (soaps, detergents, chemicals) or allergens. Identifying and avoiding these triggers is crucial for long-term management.  Patch testing may be done to identify specific allergens.\n",
              "\n",
              "\n",
              "If you suspect you have hand eczema, please see a dermatologist for proper diagnosis and treatment.  Self-treating can sometimes worsen the condition.  They can provide personalized recommendations based on your individual needs.\n"
            ],
            "text/plain": [
              "<IPython.core.display.Markdown object>"
            ]
          },
          "execution_count": 27,
          "metadata": {},
          "output_type": "execute_result"
        }
      ],
      "source": [
        "# Add details of patient to prompt inspect how output changes\n",
        "\n",
        "# Patient details in years, cm and kg\n",
        "age = 30\n",
        "gender = \"Female\"\n",
        "height = 170  \n",
        "weight = 100 \n",
        "\n",
        "# Create a new prompt with patient details\n",
        "detailed_prompt = f\"Patient details: Age: {age}, Gender: {gender}, Height: {height} cm, Weight: {weight} kg. \" \\\n",
        "                  f\"Return whether the provided image is a case of eczema and explain how severe the case is and what remedies can be availed.\"\n",
        "\n",
        "response = model.generate_content([sample_file, detailed_prompt])\n",
        "\n",
        "Markdown(response.text)\n"
      ]
    },
    {
      "cell_type": "code",
      "execution_count": 28,
      "metadata": {},
      "outputs": [
        {
          "data": {
            "text/markdown": [
              "The image suggests a skin condition that could be **hand eczema**, also known as hand dermatitis. It's crucial to understand that I cannot provide a diagnosis. Only a medical professional, ideally a dermatologist, can accurately diagnose and recommend a treatment plan.\n",
              "\n",
              "**Severity Assessment (based on the image):**  The eczema appears moderate. There are areas of darkened skin, which could indicate lichenification (thickening of the skin from chronic scratching).  The presence of a possible blister or erosion on the bottom left suggests active inflammation and potential itching. The visible lines in the palm might be from scratching and dryness.\n",
              "\n",
              "**Possible Eczema Remedies (ONLY a doctor can recommend appropriate treatment):**\n",
              "\n",
              "* **Moisturizers:**  Frequent application of thick, fragrance-free moisturizers is essential. This helps hydrate the skin and reduce itching.  Ointments are often more effective than creams or lotions for dry, cracked skin.\n",
              "* **Topical Steroids:**  A doctor may prescribe topical corticosteroids to reduce inflammation and itching.  The strength and duration of use will depend on the severity of the eczema.\n",
              "* **Topical Calcineurin Inhibitors:**  These medications (like tacrolimus or pimecrolimus) can be used as an alternative to steroids, particularly on sensitive areas like the face or in cases where steroids have not been effective.\n",
              "* **Wet Wraps:** Applying cool, wet dressings to the affected areas can help soothe the skin, reduce inflammation, and improve the absorption of topical medications.\n",
              "* **Antihistamines:** Oral antihistamines may be helpful for reducing itching, particularly at night.\n",
              "* **Avoid Triggers:** Identifying and avoiding triggers is crucial for managing eczema. Common triggers include soaps, detergents, certain fabrics, allergens (like pollen or dust mites), and stress.\n",
              "* **Bleach Baths (Diluted):**  In some cases, a dermatologist might recommend diluted bleach baths to help reduce bacterial infections on the skin.  This should only be done under the guidance of a doctor, as the bleach concentration is critical.\n",
              "* **Phototherapy:** For severe cases, phototherapy (exposure to ultraviolet light) may be used.\n",
              "\n",
              "**IMPORTANT:**  This information is not a substitute for professional medical advice. The appearance of a skin condition can vary, and similar-looking conditions may require different treatments. Please consult a dermatologist or other qualified healthcare provider for an accurate diagnosis and personalized treatment plan. Self-treating can sometimes worsen skin conditions.  A doctor will consider the patient's age, medical history, and other factors when making recommendations.\n"
            ],
            "text/plain": [
              "<IPython.core.display.Markdown object>"
            ]
          },
          "execution_count": 28,
          "metadata": {},
          "output_type": "execute_result"
        }
      ],
      "source": [
        "# Add details of patient to prompt inspect how output changes\n",
        "\n",
        "# Patient details in years, cm and kg\n",
        "age = 12\n",
        "gender = \"Male\"\n",
        "height = 145\n",
        "weight = 30\n",
        "\n",
        "# Create a new prompt with patient details\n",
        "detailed_prompt = f\"Patient details: Age: {age}, Gender: {gender}, Height: {height} cm, Weight: {weight} kg. \" \\\n",
        "                  f\"Return whether the provided image is a case of eczema and explain how severe the case is and what remedies can be availed.\"\n",
        "\n",
        "response = model.generate_content([sample_file, detailed_prompt])\n",
        "\n",
        "Markdown(response.text)\n"
      ]
    }
  ],
  "metadata": {
    "colab": {
      "provenance": []
    },
    "kernelspec": {
      "display_name": "Python 3",
      "name": "python3"
    },
    "language_info": {
      "codemirror_mode": {
        "name": "ipython",
        "version": 3
      },
      "file_extension": ".py",
      "mimetype": "text/x-python",
      "name": "python",
      "nbconvert_exporter": "python",
      "pygments_lexer": "ipython3",
      "version": "3.10.11"
    }
  },
  "nbformat": 4,
  "nbformat_minor": 0
}
